{
 "cells": [
  {
   "cell_type": "code",
   "execution_count": 67,
   "metadata": {},
   "outputs": [],
   "source": [
    "from sklearn.tree import DecisionTreeRegressor\n",
    "import numpy as np\n",
    "from sklearn.ensemble import GradientBoostingRegressor\n",
    "import pandas as pd\n",
    "import pydotplus\n",
    "from pydotplus import graph_from_dot_data\n",
    "from sklearn.tree import export_graphviz\n",
    "from sklearn.model_selection import train_test_split\n"
   ]
  },
  {
   "cell_type": "code",
   "execution_count": 36,
   "metadata": {},
   "outputs": [],
   "source": [
    "meta_data = pd.read_excel(\"D:\\新传数据挖掘比赛\\Code\\Contest\\data_minig_contest_new_media\\data\\combine_data_v2.xlsx\")\n",
    "y_m_data = pd.read_excel(\"D:\\新传数据挖掘比赛\\Code\\Contest\\data_minig_contest_new_media\\data\\heat_events.xlsx\")\n",
    "y_data = y_m_data[\"热度\"]"
   ]
  },
  {
   "cell_type": "code",
   "execution_count": 23,
   "metadata": {},
   "outputs": [
    {
     "name": "stdout",
     "output_type": "stream",
     "text": [
      "(3920, 55)\n",
      "(3920,)\n"
     ]
    }
   ],
   "source": [
    "print(meta_data.shape)\n",
    "print(y_data.shape)\n",
    "assert y_data.shape[0]==meta_data.shape[0]"
   ]
  },
  {
   "cell_type": "code",
   "execution_count": 30,
   "metadata": {},
   "outputs": [
    {
     "data": {
      "text/html": [
       "<div>\n",
       "<style scoped>\n",
       "    .dataframe tbody tr th:only-of-type {\n",
       "        vertical-align: middle;\n",
       "    }\n",
       "\n",
       "    .dataframe tbody tr th {\n",
       "        vertical-align: top;\n",
       "    }\n",
       "\n",
       "    .dataframe thead th {\n",
       "        text-align: right;\n",
       "    }\n",
       "</style>\n",
       "<table border=\"1\" class=\"dataframe\">\n",
       "  <thead>\n",
       "    <tr style=\"text-align: right;\">\n",
       "      <th></th>\n",
       "      <th>序号</th>\n",
       "      <th>时间衰减系数</th>\n",
       "      <th>点赞-mean</th>\n",
       "      <th>点赞-max</th>\n",
       "      <th>点赞-var</th>\n",
       "      <th>点赞-sum</th>\n",
       "      <th>转发-mean</th>\n",
       "      <th>转发-max</th>\n",
       "      <th>转发-var</th>\n",
       "      <th>转发-sum</th>\n",
       "      <th>...</th>\n",
       "      <th>标题/微博内容-情感极性值-sum</th>\n",
       "      <th>一次转发</th>\n",
       "      <th>二次转发</th>\n",
       "      <th>三次转发</th>\n",
       "      <th>四次转发</th>\n",
       "      <th>大于四次转发</th>\n",
       "      <th>总转发次数</th>\n",
       "      <th>大于等于四次转发</th>\n",
       "      <th>得分</th>\n",
       "      <th>归1化</th>\n",
       "    </tr>\n",
       "  </thead>\n",
       "  <tbody>\n",
       "    <tr>\n",
       "      <th>0</th>\n",
       "      <td>1</td>\n",
       "      <td>1.410959</td>\n",
       "      <td>0.0</td>\n",
       "      <td>0.0</td>\n",
       "      <td>0.0</td>\n",
       "      <td>0.0</td>\n",
       "      <td>0.057</td>\n",
       "      <td>51.0</td>\n",
       "      <td>2.608359</td>\n",
       "      <td>57.0</td>\n",
       "      <td>...</td>\n",
       "      <td>3677.3</td>\n",
       "      <td>799</td>\n",
       "      <td>50</td>\n",
       "      <td>19</td>\n",
       "      <td>8</td>\n",
       "      <td>18</td>\n",
       "      <td>894</td>\n",
       "      <td>26</td>\n",
       "      <td>0.000104</td>\n",
       "      <td>0.000228</td>\n",
       "    </tr>\n",
       "  </tbody>\n",
       "</table>\n",
       "<p>1 rows × 55 columns</p>\n",
       "</div>"
      ],
      "text/plain": [
       "   序号    时间衰减系数  点赞-mean  点赞-max  点赞-var  点赞-sum  转发-mean  转发-max    转发-var  \\\n",
       "0   1  1.410959      0.0     0.0     0.0     0.0    0.057    51.0  2.608359   \n",
       "\n",
       "   转发-sum  ...  标题/微博内容-情感极性值-sum  一次转发  二次转发  三次转发  四次转发  大于四次转发  总转发次数  \\\n",
       "0    57.0  ...             3677.3   799    50    19     8      18    894   \n",
       "\n",
       "   大于等于四次转发        得分       归1化  \n",
       "0        26  0.000104  0.000228  \n",
       "\n",
       "[1 rows x 55 columns]"
      ]
     },
     "execution_count": 30,
     "metadata": {},
     "output_type": "execute_result"
    }
   ],
   "source": [
    "meta_data[meta_data.index==0]"
   ]
  },
  {
   "cell_type": "code",
   "execution_count": 60,
   "metadata": {},
   "outputs": [
    {
     "name": "stdout",
     "output_type": "stream",
     "text": [
      "删除的行索引： [  21   30   58   75   94   96   98  101  103  113  122  126  133  153\n",
      "  157  164  167  180  181  194  195  208  211  216  236  250  298  341\n",
      "  348  358  400  404  430  484  487  628  644  675  726  771  792  823\n",
      "  840  895  922  974  979 1014 1097 1116 1286 1292 1471 1539 1547 1572\n",
      " 1573 1626 1628 1697 1721 1880 2005 2073 2101 2423 2733 2841 2974 3378\n",
      " 3582]\n",
      "处理后的数据：\n",
      "        序号    时间衰减系数   点赞-mean  点赞-max    点赞-var  点赞-sum   转发-mean  转发-max  \\\n",
      "0        1  1.410959  0.000000     0.0  0.000000     0.0  0.057000    51.0   \n",
      "1        2  1.115068  0.000000     0.0  0.000000     0.0  0.021000    10.0   \n",
      "2        3  1.479452  0.000000     0.0  0.000000     0.0  0.104000    48.0   \n",
      "3        4  1.479452  0.000000     0.0  0.000000     0.0  0.057000    19.0   \n",
      "4        5  1.479452  0.000000     0.0  0.000000     0.0  0.008000     2.0   \n",
      "...    ...       ...       ...     ...       ...     ...       ...     ...   \n",
      "3915  3996  0.778082  0.000000     0.0  0.000000     0.0  0.026316     3.0   \n",
      "3916  3997  0.758904  0.000000     0.0  0.000000     0.0  0.038760     3.0   \n",
      "3917  3998  0.616438  0.000000     0.0  0.000000     0.0  0.025424     2.0   \n",
      "3918  3999  0.646575  0.200000     2.0  0.400000     2.0  0.000000     0.0   \n",
      "3919  4000  0.627397  0.001484     1.0  0.001484     1.0  0.022255     9.0   \n",
      "\n",
      "        转发-var  转发-sum  ...  标题/微博内容-情感极性值-sum  一次转发  二次转发  三次转发  四次转发  \\\n",
      "0     2.608359    57.0  ...            3677.30   799    50    19     8   \n",
      "1     0.114674    21.0  ...            2319.45   867    42    12     3   \n",
      "2     2.866050   104.0  ...            7031.02   828    37    11     5   \n",
      "3     0.586337    57.0  ...            2213.80   814    40    10     3   \n",
      "4     0.013950     8.0  ...            2633.40   854    32    10     9   \n",
      "...        ...     ...  ...                ...   ...   ...   ...   ...   \n",
      "3915  0.060978     6.0  ...              19.10    97     1     2     0   \n",
      "3916  0.100048     5.0  ...            2243.90    85     0     0     0   \n",
      "3917  0.042083     3.0  ...            -111.60    63     0     0     0   \n",
      "3918  0.000000     0.0  ...            9415.70     9     0     0     0   \n",
      "3919  0.137691    15.0  ...           -3169.88   140     1     1     0   \n",
      "\n",
      "      大于四次转发  总转发次数  大于等于四次转发        得分       归1化  \n",
      "0         18    894        26  0.000104  0.000228  \n",
      "1          9    933        12  0.002401  0.005233  \n",
      "2          5    886        10  0.001279  0.002788  \n",
      "3          2    869         5  0.000002  0.000005  \n",
      "4          5    910        14  0.000949  0.002069  \n",
      "...      ...    ...       ...       ...       ...  \n",
      "3915       0    100         0  0.047257  0.103014  \n",
      "3916       0     85         0  0.000048  0.000105  \n",
      "3917       0     63         0  0.000840  0.001830  \n",
      "3918       0      9         0  0.011523  0.025119  \n",
      "3919       0    142         0  0.009995  0.021788  \n",
      "\n",
      "[3849 rows x 55 columns]\n",
      "removed_indices: [  21   30   58   75   94   96   98  101  103  113  122  126  133  153\n",
      "  157  164  167  180  181  194  195  208  211  216  236  250  298  341\n",
      "  348  358  400  404  430  484  487  628  644  675  726  771  792  823\n",
      "  840  895  922  974  979 1014 1097 1116 1286 1292 1471 1539 1547 1572\n",
      " 1573 1626 1628 1697 1721 1880 2005 2073 2101 2423 2733 2841 2974 3378\n",
      " 3582]\n"
     ]
    }
   ],
   "source": [
    "\n",
    "def remove_invalid_rows(x_data):\n",
    "    # 复制输入数据以保留原始数据不变\n",
    "    x_data_process = x_data.copy()\n",
    "    \n",
    "    # 找到连续为空值或NAN的行\n",
    "    is_invalid_row = x_data_process.isnull().any(axis=1)\n",
    "    is_invalid_row |= x_data_process.isna().any(axis=1)\n",
    "    # print(\"空无效值值列：\",np.where(is_invalid_row[0]))\n",
    "    # 找到连续13列值为0的行   注意：存在转发点赞评论为零的经过实验发现是12列最多，最后得到结果与人眼观测结果一致，得到所有去除后的数据  \n",
    "    is_invalid_row |= (x_data_process == 0).astype(int).rolling(13, axis=1).sum().eq(13).any(axis=1)\n",
    "    # 获取需要删除的行的索引\n",
    "    invalid_row_indices = np.where(is_invalid_row)[0]\n",
    "    \n",
    "    # 删除无效行\n",
    "    x_data_process.drop(x_data_process.index[invalid_row_indices], inplace=True)\n",
    "    \n",
    "    # 返回处理后的数据和删除的行索引\n",
    "    return x_data_process, invalid_row_indices\n",
    "\n",
    "# 使用示例\n",
    "x_data_process, removed_indices = remove_invalid_rows(meta_data)\n",
    "\n",
    "print(\"删除的行索引：\", removed_indices)\n",
    "print(\"处理后的数据：\")\n",
    "print(x_data_process)\n",
    "print(\"removed_indices:\",removed_indices)"
   ]
  },
  {
   "cell_type": "code",
   "execution_count": 63,
   "metadata": {},
   "outputs": [],
   "source": [
    "# 注意此处行号与excel中显示的行号数字减2\n",
    "y_data_clean = y_data.drop(y_data.index[removed_indices]) "
   ]
  },
  {
   "cell_type": "code",
   "execution_count": 66,
   "metadata": {},
   "outputs": [],
   "source": [
    "# check data shape\n",
    "assert y_data_clean.shape[0]==x_data_process.shape[0]\n",
    "assert y_data.shape[0]==meta_data.shape[0]"
   ]
  },
  {
   "cell_type": "markdown",
   "metadata": {},
   "source": [
    "### GDBT Implement"
   ]
  },
  {
   "cell_type": "code",
   "execution_count": 88,
   "metadata": {},
   "outputs": [],
   "source": [
    "X_train, X_test, y_train, y_test = train_test_split(x_data_process, y_data_clean, test_size=0.2, random_state=1)"
   ]
  },
  {
   "cell_type": "code",
   "execution_count": 69,
   "metadata": {},
   "outputs": [
    {
     "name": "stdout",
     "output_type": "stream",
     "text": [
      "Best parameters: {'learning_rate': 0.01, 'max_depth': 3, 'n_estimators': 200}\n",
      "Mean squared error: 0.3177854920633244\n"
     ]
    }
   ],
   "source": [
    "import joblib\n",
    "from sklearn.ensemble import GradientBoostingRegressor\n",
    "from sklearn.model_selection import GridSearchCV\n",
    "from sklearn.metrics import mean_squared_error\n",
    "\n",
    "# 创建GradientBoostingRegressor模型\n",
    "model = GradientBoostingRegressor()\n",
    "\n",
    "# 定义参数搜索空间\n",
    "# Best parameters {'learning_rate': 0.01, 'max_depth': 3, 'n_estimators': 200}\n",
    "param_grid = {\n",
    "    'n_estimators': [100, 200, 300],\n",
    "    'learning_rate': [0.1, 0.05, 0.01],\n",
    "    'max_depth': [3, 4, 5]\n",
    "}\n",
    "\n",
    "# 创建GridSearchCV对象\n",
    "grid_search = GridSearchCV(estimator=model, param_grid=param_grid, cv=5)\n",
    "\n",
    "# 拟合训练数据\n",
    "grid_search.fit(X_train, y_train)\n",
    "\n",
    "# 输出最佳参数组合\n",
    "best_params = grid_search.best_params_\n",
    "print(\"Best parameters:\", best_params)\n",
    "\n",
    "# 保存最佳模型\n",
    "joblib.dump(grid_search.best_estimator_, 'best_model.pkl')\n",
    "\n",
    "# 加载最佳模型\n",
    "loaded_model = joblib.load('best_model.pkl')\n",
    "\n",
    "# 使用加载的模型进行预测\n",
    "y_pred = loaded_model.predict(X_test)\n",
    "\n",
    "# 计算均方误差\n",
    "mse = mean_squared_error(y_test, y_pred)\n",
    "print(\"Mean squared error:\", mse)"
   ]
  },
  {
   "cell_type": "code",
   "execution_count": 71,
   "metadata": {},
   "outputs": [
    {
     "data": {
      "image/png": "[encoded data removed]",
      "text/plain": [
       "<Figure size 1000x600 with 1 Axes>"
      ]
     },
     "metadata": {},
     "output_type": "display_data"
    }
   ],
   "source": [
    "import matplotlib.pyplot as plt\n",
    "# 在训练集和测试集上进行预测\n",
    "y_train_pred = loaded_model.predict(X_train)\n",
    "y_test_pred = loaded_model.predict(X_test)\n",
    "\n",
    "# 计算预测与真实值之间的残差\n",
    "train_residuals = y_train_pred - y_train\n",
    "test_residuals = y_test_pred - y_test\n",
    "\n",
    "# 绘制残差图\n",
    "plt.figure(figsize=(10, 6))\n",
    "plt.scatter(y_train_pred, train_residuals, c='blue', label='Training Set')\n",
    "plt.scatter(y_test_pred, test_residuals, c='red', label='Test Set')\n",
    "plt.axhline(y=0, color='black', linestyle='--')\n",
    "plt.xlabel('Predicted Values')\n",
    "plt.ylabel('Residuals')\n",
    "plt.title('Residual Plot')\n",
    "plt.legend()\n",
    "plt.show()"
   ]
  }
 ],
 "metadata": {
  "kernelspec": {
   "display_name": "base",
   "language": "python",
   "name": "python3"
  },
  "language_info": {
   "codemirror_mode": {
    "name": "ipython",
    "version": 3
   },
   "file_extension": ".py",
   "mimetype": "text/x-python",
   "name": "python",
   "nbconvert_exporter": "python",
   "pygments_lexer": "ipython3",
   "version": "3.9.17"
  },
  "orig_nbformat": 4
 },
 "nbformat": 4,
 "nbformat_minor": 2
}
